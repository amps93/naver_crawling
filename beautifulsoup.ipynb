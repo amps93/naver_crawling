{
 "cells": [
  {
   "cell_type": "code",
   "execution_count": 26,
   "id": "66e8190a-edb3-4685-a18d-d75a15173bbe",
   "metadata": {},
   "outputs": [
    {
     "name": "stdout",
     "output_type": "stream",
     "text": [
      "<p>\n",
      " Some\n",
      " <b>\n",
      "  bad\n",
      "  <i>\n",
      "   HTML\n",
      "  </i>\n",
      "  <i>\n",
      "   beautifulsoup\n",
      "  </i>\n",
      " </b>\n",
      "</p>\n"
     ]
    }
   ],
   "source": [
    "from bs4 import BeautifulSoup\n",
    "\n",
    "soup = BeautifulSoup(\"<p>Some<b>bad<i>HTML</i><i>beautifulsoup\")\n",
    "print(soup.prettify())"
   ]
  },
  {
   "cell_type": "code",
   "execution_count": 27,
   "id": "665e5fb9-6796-4ab2-9eaf-c1f0c68dfe28",
   "metadata": {},
   "outputs": [
    {
     "data": {
      "text/plain": [
       "'bad'"
      ]
     },
     "execution_count": 27,
     "metadata": {},
     "output_type": "execute_result"
    }
   ],
   "source": [
    "soup.find(text='bad')"
   ]
  },
  {
   "cell_type": "code",
   "execution_count": 28,
   "id": "55b7d7b1-613c-4781-b327-2bc6965a65fc",
   "metadata": {},
   "outputs": [
    {
     "data": {
      "text/plain": [
       "<i>HTML</i>"
      ]
     },
     "execution_count": 28,
     "metadata": {},
     "output_type": "execute_result"
    }
   ],
   "source": [
    "soup.find('i')"
   ]
  },
  {
   "cell_type": "code",
   "execution_count": 29,
   "id": "689772a5-bd84-4b72-bd5f-884e64536931",
   "metadata": {},
   "outputs": [
    {
     "data": {
      "text/plain": [
       "[<i>HTML</i>, <i>beautifulsoup</i>]"
      ]
     },
     "execution_count": 29,
     "metadata": {},
     "output_type": "execute_result"
    }
   ],
   "source": [
    "soup.find_all('i')"
   ]
  },
  {
   "cell_type": "code",
   "execution_count": null,
   "id": "540c3bed-5939-4b49-8157-945dfca3520d",
   "metadata": {},
   "outputs": [],
   "source": []
  }
 ],
 "metadata": {
  "kernelspec": {
   "display_name": "amps_3.9",
   "language": "python",
   "name": "amps"
  },
  "language_info": {
   "codemirror_mode": {
    "name": "ipython",
    "version": 3
   },
   "file_extension": ".py",
   "mimetype": "text/x-python",
   "name": "python",
   "nbconvert_exporter": "python",
   "pygments_lexer": "ipython3",
   "version": "3.9.16"
  }
 },
 "nbformat": 4,
 "nbformat_minor": 5
}
